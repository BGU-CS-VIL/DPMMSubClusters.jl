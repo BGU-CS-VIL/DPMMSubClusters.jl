{
 "cells": [
  {
   "cell_type": "code",
   "execution_count": 10,
   "metadata": {},
   "outputs": [],
   "source": [
    "using Distributed\n",
    "addprocs(2)\n",
    "@everywhere using DPMMSubClusters"
   ]
  },
  {
   "cell_type": "code",
   "execution_count": 11,
   "metadata": {},
   "outputs": [
    {
     "ename": "UndefVarError",
     "evalue": "UndefVarError: inidt_model not defined",
     "output_type": "error",
     "traceback": [
      "UndefVarError: inidt_model not defined",
      "",
      "Stacktrace:",
      " [1] #dp_parallel#64(::Bool, ::Bool, ::Function, ::String) at /home/dinari/julia_packages/dpmm_subclusters.jl/src/dp-parallel-sampling.jl:94",
      " [2] (::getfield(DPMMSubClusters, Symbol(\"#kw##dp_parallel\")))(::NamedTuple{(:verbose,),Tuple{Bool}}, ::typeof(dp_parallel), ::String) at ./none:0",
      " [3] top-level scope at In[11]:1"
     ]
    }
   ],
   "source": [
    "dp = dp_parallel(\"params_2d.jl\", verbose = false)"
   ]
  }
 ],
 "metadata": {
  "kernelspec": {
   "display_name": "Julia 1.1.1",
   "language": "julia",
   "name": "newver-1.1"
  },
  "language_info": {
   "file_extension": ".jl",
   "mimetype": "application/julia",
   "name": "julia",
   "version": "1.1.1"
  }
 },
 "nbformat": 4,
 "nbformat_minor": 2
}
